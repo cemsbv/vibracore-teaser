{
 "cells": [
  {
   "cell_type": "markdown",
   "id": "ea379b1e",
   "metadata": {},
   "source": [
    "<img src=\"https://www.cruxbv.nl/contents/uploads/nieuws/56_1.cems_header4.png\"\n",
    "alt=\"CEMS logo\"\n",
    "style=\"float: left; margin-right: 10px;\" />"
   ]
  },
  {
   "cell_type": "markdown",
   "id": "ff75ee53",
   "metadata": {},
   "source": [
    "# VibraCore API\n",
    "\n",
    "A benchmark calculation becomes obsolete when you have the power to do a risk assessment for all nearby buildings of your construction site within a fraction of the time. Now you can try it yourself. Interested? Read on and find out!\n",
    "\n",
    "- **Website**: \thttps://cemsbv.nl/products/vibracore\n",
    "- **API**: \t\thttps://crux-nuclei.com/api/vibracore/v1/ui/\n",
    "- **NUCLEI**: \thttps://cemsbv.github.io/nuclei/\n",
    "- **sign-up**: \thttps://crux-nuclei.com/sign-up\n",
    "\n",
    "VibraCore is an API service that automates the risk management of building damage during vibration works, such as the installation of sheet piles or driven piles. According to CUR 166 the maximum vibration velocity is predicted. Based on the attributes of the nearby buildings, the failure vibration velocity is calculated (according to SBR A). If the check fails, the building has an unacceptable risk (according to SBR A) of being damaged by the installation of the piles or sheet piles.\n",
    "\n",
    "Authentication is needed to call one of the endpoints. To get the credentials needed, please [sign up](https://crux-nuclei.com/sign-up) and validate your email address. To guide inexperienced programmers, we created a library that helps you to communicate with our API. This library is called [`cems-nuclei`](https://cemsbv.github.io/nuclei/) and is available on pypi.\n",
    "\n",
    "To make sure that everything is set up correctly, you can use the following code block to call the API. After providing your credentials, you should get `Service alive`."
   ]
  },
  {
   "cell_type": "code",
   "execution_count": 1,
   "id": "ffc2a8f3",
   "metadata": {},
   "outputs": [
    {
     "name": "stdout",
     "output_type": "stream",
     "text": [
      "Service alive\n"
     ]
    }
   ],
   "source": [
    "import nuclei\n",
    "\n",
    "APP = \"vibracore\"\n",
    "schema = {}\n",
    "\n",
    "print(nuclei.call_endpoint(APP, \"/healthcheck\", schema))"
   ]
  },
  {
   "cell_type": "markdown",
   "id": "5cc97e92",
   "metadata": {},
   "source": [
    "To perform a risk management according to SBR A and CUR 166 you require information of the building, the source and soil attributes. This information is bundled into the schema of the API call. The [API documentation](https://crux-nuclei.com/api/vibracore/v1/ui/) provides a detailed description of every attribute.\n",
    "\n",
    "Below you will find a small example to generate a report. Please note that we create one dummy building at 12 meters from the installation location. To add more buildings, simply extended the array."
   ]
  },
  {
   "cell_type": "code",
   "execution_count": 2,
   "id": "a377f546",
   "metadata": {},
   "outputs": [
    {
     "name": "stdout",
     "output_type": "stream",
     "text": [
      "{'id': '6763c040-2963-40b2-bb88-9043556d1e8c'}\n"
     ]
    }
   ],
   "source": [
    "schema = {\n",
    "    \"building_info\": [\n",
    "        {\n",
    "            \"geometry\": {\n",
    "                \"coordinates\": [[[12, 0], [12, 0], [12, 0]]],\n",
    "                \"type\": \"Polygon\",\n",
    "            },\n",
    "            \"metadata\": {\"ID\": \"1234\"},\n",
    "            \"properties_cur\": {\n",
    "                \"building_part\": \"vloer\",\n",
    "                \"foundation_element\": \"staal\",\n",
    "                \"installation_type\": \"trillen\",\n",
    "                \"material\": \"beton\",\n",
    "                \"safety_factor\": 0.05,\n",
    "                \"vibration_direction\": \"vertical\",\n",
    "            },\n",
    "            \"properties_sbr_a\": {\n",
    "                \"category\": \"one\",\n",
    "                \"frequency\": 30,\n",
    "                \"monumental\": True,\n",
    "                \"structural_condition\": \"gevoelig\",\n",
    "                \"vibration_sensitive\": True,\n",
    "                \"vibration_type\": \"continu\",\n",
    "            },\n",
    "        }\n",
    "    ],\n",
    "    \"prediction\": {\n",
    "        \"attenuation_constant\": 1.1,\n",
    "        \"force\": 500,\n",
    "        \"measurement_type\": \"indicatief\",\n",
    "        \"methode_safety_factor\": \"CUR\",\n",
    "        \"references_velocity\": 0.9,\n",
    "        \"variation_coefficient\": 0.02,\n",
    "    },\n",
    "    \"validation\": {\"source_location\": {\"coordinates\": [0, 0], \"type\": \"Point\"}},\n",
    "    \"report_properties\": {\n",
    "        \"author\": \"C. EMS\",\n",
    "        \"project_name\": \"Teaser\",\n",
    "        \"project_number\": \"987654\",\n",
    "        \"project_remark\": \"This is a dummy calculation.\",\n",
    "    },\n",
    "}\n",
    "\n",
    "response = nuclei.call_endpoint(APP, \"/cur166/report\", schema)\n",
    "\n",
    "print(response)"
   ]
  },
  {
   "cell_type": "markdown",
   "id": "bd90dd3f",
   "metadata": {},
   "source": [
    "Most of the endpoints of VibraCore provide a task ID. This means that the job is running in the background. To fetch the job results, you need to call a different endpoint. This call provides the status of the job, if still pending."
   ]
  },
  {
   "cell_type": "code",
   "execution_count": 3,
   "id": "45d417f8",
   "metadata": {},
   "outputs": [
    {
     "name": "stdout",
     "output_type": "stream",
     "text": [
      "Task with id 6763c040-2963-40b2-bb88-9043556d1e8c is still running/pending.\n"
     ]
    }
   ],
   "source": [
    "pdf = nuclei.call_endpoint(APP, \"/get-task\", response)\n",
    "\n",
    "if isinstance(pdf, bytes):\n",
    "    display({\"application/pdf\": pdf}, raw=True)\n",
    "else:\n",
    "    print(pdf)"
   ]
  },
  {
   "cell_type": "markdown",
   "id": "5f5dc85b",
   "metadata": {},
   "source": [
    "Congratulations! 🚀 You generated a report that holds the risk assessment of possible building damage as a result of placing a sheet pile. Depending on your setup, either bytes or a PDF is displayed at this point.\n",
    "\n",
    "By adding more buildings to the `building_info` attribute of the schema, more buildings are validated. To use the full potential of the API, combine VibraCore with open source data, for example the BAG (key registry address and buildings). In doing so, we are able to perform a validation on the entire neighborhood of the project location, providing a higher detail on risk management."
   ]
  }
 ],
 "metadata": {
  "kernelspec": {
   "display_name": "Python 3 (ipykernel)",
   "language": "python",
   "name": "python3"
  },
  "language_info": {
   "codemirror_mode": {
    "name": "ipython",
    "version": 3
   },
   "file_extension": ".py",
   "mimetype": "text/x-python",
   "name": "python",
   "nbconvert_exporter": "python",
   "pygments_lexer": "ipython3",
   "version": "3.9.5"
  }
 },
 "nbformat": 4,
 "nbformat_minor": 5
}
